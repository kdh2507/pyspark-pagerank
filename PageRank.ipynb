{
  "cells": [
    {
      "cell_type": "code",
      "execution_count": 1,
      "metadata": {
        "id": "30qo4fFaBJuk"
      },
      "outputs": [],
      "source": [
        "#set up evironment\n",
        "!apt-get install openjdk-8-jdk-headless -qq > /dev/null\n",
        "!wget -q http://archive.apache.org/dist/spark/spark-3.1.1/spark-3.1.1-bin-hadoop3.2.tgz\n",
        "!tar xf spark-3.1.1-bin-hadoop3.2.tgz\n",
        "!pip install -q findspark"
      ]
    },
    {
      "cell_type": "code",
      "execution_count": 2,
      "metadata": {
        "id": "EykdtOM3uK1i"
      },
      "outputs": [],
      "source": [
        "import os\n",
        "os.environ[\"JAVA_HOME\"] = \"/usr/lib/jvm/java-8-openjdk-amd64\"\n",
        "os.environ[\"SPARK_HOME\"] = \"/content/spark-3.1.1-bin-hadoop3.2\"\n",
        "\n",
        "import findspark\n",
        "findspark.init()"
      ]
    },
    {
      "cell_type": "code",
      "execution_count": 3,
      "metadata": {
        "id": "T0XTfMEkuWV2"
      },
      "outputs": [],
      "source": [
        "from pyspark import SparkContext\n",
        "from pyspark.sql import SQLContext\n",
        "\n",
        "sc = SparkContext(\"local\",\"Filter app\")\n",
        "sqlc = SQLContext(sc)"
      ]
    },
    {
      "cell_type": "code",
      "execution_count": 4,
      "metadata": {
        "id": "cBR5JQUzwhW2"
      },
      "outputs": [],
      "source": [
        "import requests\n",
        "import collections\n",
        "main_url = \"https://tdtu.edu.vn\"\n",
        "source = requests.get(url = main_url).text"
      ]
    },
    {
      "cell_type": "code",
      "execution_count": 5,
      "metadata": {
        "id": "b1uplNciyvfa"
      },
      "outputs": [],
      "source": [
        "from bs4 import BeautifulSoup\n",
        "soup = BeautifulSoup(source,'html.parser')\n"
      ]
    },
    {
      "cell_type": "code",
      "execution_count": 6,
      "metadata": {
        "id": "WDUEr2Q5WV2e"
      },
      "outputs": [],
      "source": [
        "def get_sub_urls(prefix):\n",
        "  # d = collections.defaultdict(list) #hashmap with value = []\n",
        "  for link in soup.find_all('a'):\n",
        "    try:\n",
        "      link = link.get('href')\n",
        "      if prefix in link:\n",
        "        yield link #make generator instead of list\n",
        "    except:\n",
        "      continue\n",
        "\n",
        "\n",
        "def DFS(url, prefix, n):\n",
        "  d = collections.defaultdict(list) #hashmap with value = []\n",
        "  stack = [url]\n",
        "  visited = set()\n",
        "  try: #handling generator exit\n",
        "    while stack and n>0:\n",
        "      vertex = stack.pop() #current url\n",
        "      d[vertex] = [sub_url for sub_url in get_sub_urls(prefix)]\n",
        "\n",
        "      #prevent row > n\n",
        "      if len(d[vertex]) > n:\n",
        "        d[vertex] = d[vertex][:n]\n",
        "      n-=len(d[vertex])\n",
        "\n",
        "      if vertex in visited: #O(1) lookup\n",
        "        continue\n",
        "      # if d[vertex]: remove for deadend check\n",
        "      yield vertex,d[vertex] #ex: (page,[list of it's sub_page])\n",
        "  \n",
        "      visited.add(vertex)\n",
        "      for neighbor in d[vertex]:\n",
        "        stack.append(neighbor)\n",
        "\n",
        "  except GeneratorExit:\n",
        "    print(\"clean up first\")\n",
        "    "
      ]
    },
    {
      "cell_type": "code",
      "execution_count": 8,
      "metadata": {
        "id": "XQqfdTPWWWIk",
        "colab": {
          "base_uri": "https://localhost:8080/"
        },
        "outputId": "8a3fa42a-2898-4a87-9cb2-86c499d34a95"
      },
      "outputs": [
        {
          "output_type": "stream",
          "name": "stdout",
          "text": [
            "+-------------------+--------------------+\n",
            "|               Page|           Successor|\n",
            "+-------------------+--------------------+\n",
            "|https://tdtu.edu.vn|https://college.t...|\n",
            "|https://tdtu.edu.vn|https://vfis.tdtu...|\n",
            "|https://tdtu.edu.vn|http://it.tdtu.ed...|\n",
            "|https://tdtu.edu.vn|http://pharmacy.t...|\n",
            "|https://tdtu.edu.vn|http://feee.tdtu....|\n",
            "|https://tdtu.edu.vn|http://aaf.tdtu.e...|\n",
            "|https://tdtu.edu.vn|http://fss.tdtu.e...|\n",
            "|https://tdtu.edu.vn|https://fas.tdtu....|\n",
            "|https://tdtu.edu.vn|http://ssh.tdtu.e...|\n",
            "|https://tdtu.edu.vn|http://civil.tdtu...|\n",
            "|https://tdtu.edu.vn|http://laborrelat...|\n",
            "|https://tdtu.edu.vn|http://law.tdtu.e...|\n",
            "|https://tdtu.edu.vn|http://enlabsafe....|\n",
            "|https://tdtu.edu.vn|http://ifa.tdtu.e...|\n",
            "|https://tdtu.edu.vn|http://ffl.tdtu.e...|\n",
            "|https://tdtu.edu.vn|http://fba.tdtu.e...|\n",
            "|https://tdtu.edu.vn|http://finance.td...|\n",
            "|https://tdtu.edu.vn|http://fms.tdtu.e...|\n",
            "|https://tdtu.edu.vn|https://internati...|\n",
            "|https://tdtu.edu.vn|https://incos.tdt...|\n",
            "+-------------------+--------------------+\n",
            "only showing top 20 rows\n",
            "\n"
          ]
        }
      ],
      "source": [
        "prefix = 'tdtu.edu.vn'\n",
        "n = 10000 #limit\n",
        "\n",
        "tree = DFS(main_url,prefix,n) #completed graph\n",
        "rdd = sc.parallelize(tree)\\\n",
        "        .flatMap(lambda n: [(n[0], x) for x in n[1]])\\\n",
        "        .distinct()\n",
        "\n",
        "df = rdd.toDF([\"Page\",\"Successor\"])\n",
        "df.show()\n"
      ]
    },
    {
      "cell_type": "markdown",
      "source": [
        "PageRank is an algorithm that is used by Google Search to rank websites in their search engine results. This algorithm iteratively updates a rank for each document by adding up contributions from documents that link to it. The algorithm can be summarized in the following steps -\n",
        "\n",
        "\n",
        "*   Start each page at a rank of 1.\n",
        "*   On each iteration, have page p contribute rank(p)/|neighbors(p)| to its neighbors.\n",
        "*   Set each page's rank to 0.15 + 0.85 X contributions.\n",
        "\n",
        "Src: https://github.com/ashishvshenoy/pagerank-spark\n",
        "\n",
        "\n",
        "\n"
      ],
      "metadata": {
        "id": "GJqbdV53SDkZ"
      }
    },
    {
      "cell_type": "code",
      "source": [
        "from operator import add\n",
        "def computeContributes(urls, rank):\n",
        "    for url in urls:\n",
        "        yield (url, rank / len(urls))\n",
        "\n",
        "lines = df.select([\"Page\",\"Successor\"])\\\n",
        "            .rdd\n",
        "#input format\n",
        "#URL      neighbor\n",
        "#URL      neighbor\n",
        "#URL      neighbor\n",
        "\n",
        "links = lines.groupByKey()\n",
        "ranks = links.mapValues(lambda neigbor: 1.0)\n",
        "for _ in range(50): #iteration = 50\n",
        "    contribute = links.join(ranks).flatMap(\n",
        "        lambda url_rank: computeContributes(url_rank[1][0], url_rank[1][1]))\n",
        "    ranks = contribute.reduceByKey(add).mapValues(lambda rank: round(rank * 0.85 + 0.15,3))\n",
        "\n",
        "ranks = ranks.toDF([\"Page\",\"PageRank\"])\n",
        "lines = lines.groupByKey()\\\n",
        "             .mapValues(list)\\\n",
        "             .map(lambda n: (n[0], n[1],len(n[1]), 0 if len(n[1])>0 else 1))\\\n",
        "             \n",
        "lines = lines.toDF([\"Page\",\"Successor\",\"Out-degree\",\"Dead-ends\"])\n",
        "lines.join(ranks,on='Page').show()\n"
      ],
      "metadata": {
        "id": "TdC7LqF8-TGp",
        "colab": {
          "base_uri": "https://localhost:8080/"
        },
        "outputId": "b0d0ae5d-7338-4685-ad57-c6119de2c986"
      },
      "execution_count": 9,
      "outputs": [
        {
          "output_type": "stream",
          "name": "stdout",
          "text": [
            "+--------------------+--------------------+----------+---------+--------+\n",
            "|                Page|           Successor|Out-degree|Dead-ends|PageRank|\n",
            "+--------------------+--------------------+----------+---------+--------+\n",
            "|https://raic.tdtu...|[https://college....|        45|        0|   0.234|\n",
            "|https://science.t...|[https://college....|        45|        0|   0.234|\n",
            "|https://admission...|[https://college....|        45|        0|   0.234|\n",
            "|https://ecc.tdtu....|[https://college....|        45|        0|   0.234|\n",
            "|https://science.t...|[https://college....|        45|        0|   0.234|\n",
            "|https://vfis.tdtu...|[https://college....|        45|        0|   0.234|\n",
            "|https://emas.tdtu...|[https://college....|        45|        0|   0.234|\n",
            "|https://undergrad...|[https://college....|        45|        0|   0.234|\n",
            "|https://science.t...|[https://college....|        45|        0|   0.234|\n",
            "|https://nhatrang....|[https://college....|        45|        0|   0.234|\n",
            "|https://clc.tdtu....|[https://college....|        45|        0|   0.234|\n",
            "|https://student.t...|[https://college....|        45|        0|   0.234|\n",
            "|https://discovery...|[https://college....|        45|        0|   0.234|\n",
            "|http://tracuuvanb...|[https://college....|        45|        0|   0.234|\n",
            "|https://lib.tdtu....|[https://college....|        45|        0|   0.234|\n",
            "|https://vietnames...|[https://college....|        45|        0|   0.234|\n",
            "|https://ceca.tdtu...|[https://college....|        45|        0|   0.234|\n",
            "|https://science.t...|[https://college....|        45|        0|   0.234|\n",
            "|https://fostect.t...|[https://college....|        45|        0|   0.234|\n",
            "+--------------------+--------------------+----------+---------+--------+\n",
            "\n"
          ]
        }
      ]
    },
    {
      "cell_type": "code",
      "source": [
        "sc.stop()"
      ],
      "metadata": {
        "id": "7JavQ25N0XOk"
      },
      "execution_count": 10,
      "outputs": []
    }
  ],
  "metadata": {
    "colab": {
      "provenance": []
    },
    "kernelspec": {
      "display_name": "Python 3",
      "name": "python3"
    },
    "language_info": {
      "name": "python"
    }
  },
  "nbformat": 4,
  "nbformat_minor": 0
}